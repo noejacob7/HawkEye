{
 "cells": [
  {
   "cell_type": "code",
   "execution_count": 32,
   "metadata": {},
   "outputs": [
    {
     "name": "stdout",
     "output_type": "stream",
     "text": [
      "Warning: Looks like you're using an outdated `kagglehub` version, please consider updating (latest version: 0.3.10)\n",
      "Downloading from https://www.kaggle.com/api/v1/datasets/download/rickyyyyyyy/torchvision-stanford-cars?dataset_version_number=2...\n"
     ]
    },
    {
     "name": "stderr",
     "output_type": "stream",
     "text": [
      "100%|██████████| 1.83G/1.83G [10:47<00:00, 3.03MB/s]"
     ]
    },
    {
     "name": "stdout",
     "output_type": "stream",
     "text": [
      "Extracting model files...\n"
     ]
    },
    {
     "name": "stderr",
     "output_type": "stream",
     "text": [
      "\n"
     ]
    },
    {
     "name": "stdout",
     "output_type": "stream",
     "text": [
      "Path to dataset files: /Users/noejacob/.cache/kagglehub/datasets/rickyyyyyyy/torchvision-stanford-cars/versions/2\n"
     ]
    }
   ],
   "source": [
    "import kagglehub\n",
    "\n",
    "# Download latest version\n",
    "path = kagglehub.dataset_download(\"rickyyyyyyy/torchvision-stanford-cars\")\n",
    "\n",
    "print(\"Path to dataset files:\", path)"
   ]
  },
  {
   "cell_type": "code",
   "execution_count": 33,
   "metadata": {},
   "outputs": [
    {
     "name": "stdout",
     "output_type": "stream",
     "text": [
      "[✅] Dataset moved to current folder.\n"
     ]
    }
   ],
   "source": [
    "import shutil\n",
    "import os\n",
    "\n",
    "shutil.move(path, \"./stanford_cars\")\n",
    "print(\"[✅] Dataset moved to current folder.\")\n"
   ]
  },
  {
   "cell_type": "code",
   "execution_count": 26,
   "metadata": {},
   "outputs": [
    {
     "name": "stdout",
     "output_type": "stream",
     "text": [
      "[✅] Filenames reverted to 5-digit format (e.g., 00001.jpg)\n"
     ]
    }
   ],
   "source": [
    "import os\n",
    "\n",
    "img_dir = \"stanford_cars/cars_train\"\n",
    "\n",
    "for fname in os.listdir(img_dir):\n",
    "    if fname.endswith(\".jpg\") and len(fname) == 10 and fname[:6].isdigit():\n",
    "        # Extract number and convert to 5-digit string\n",
    "        number = int(fname[:6])        # '000001' → 1\n",
    "        new_fname = f\"{number:05d}.jpg\"  # → '00001.jpg'\n",
    "        old_path = os.path.join(img_dir, fname)\n",
    "        new_path = os.path.join(img_dir, new_fname)\n",
    "        os.rename(old_path, new_path)\n",
    "\n",
    "print(\"[✅] Filenames reverted to 5-digit format (e.g., 00001.jpg)\")\n"
   ]
  },
  {
   "cell_type": "code",
   "execution_count": 18,
   "metadata": {},
   "outputs": [
    {
     "name": "stdout",
     "output_type": "stream",
     "text": [
      "(array(['car_ims/000001.jpg'], dtype='<U18'), array([[112]], dtype=uint8), array([[7]], dtype=uint8), array([[853]], dtype=uint16), array([[717]], dtype=uint16), array([[1]], dtype=uint8), array([[0]], dtype=uint8))\n",
      "Aston Martin Virage Coupe 2012\n"
     ]
    }
   ],
   "source": [
    "import scipy.io\n",
    "\n",
    "meta = scipy.io.loadmat('stanford-cars-dataset/cars_ANNOS.mat')\n",
    "class_names = [entry[0] for entry in meta['class_names'][0]]\n",
    "\n",
    "print(meta['annotations'][0][0])\n",
    "# Example:\n",
    "print(class_names[10])  # class ID 11 = index 10 (0-based)\n"
   ]
  }
 ],
 "metadata": {
  "kernelspec": {
   "display_name": "base",
   "language": "python",
   "name": "python3"
  },
  "language_info": {
   "codemirror_mode": {
    "name": "ipython",
    "version": 3
   },
   "file_extension": ".py",
   "mimetype": "text/x-python",
   "name": "python",
   "nbconvert_exporter": "python",
   "pygments_lexer": "ipython3",
   "version": "3.12.8"
  }
 },
 "nbformat": 4,
 "nbformat_minor": 2
}
